{
 "cells": [
  {
   "cell_type": "code",
   "execution_count": 5,
   "metadata": {
    "collapsed": false
   },
   "outputs": [
    {
     "name": "stdout",
     "output_type": "stream",
     "text": [
      "None\n",
      "<function data_plot at 0x107f571e0>\n"
     ]
    }
   ],
   "source": [
    "\n",
    "\n",
    "#import libraries\n",
    "import pandas as pd\n",
    "import sys\n",
    "import matplotlib.pyplot as plt\n",
    "#defining the main function which defines the variables, loads the data, the variable functions that process the data.\n",
    "\n",
    "def main ():\n",
    "        \n",
    "        #assign variables\n",
    "        action = sys.argv[1]\n",
    "        filename = sys.argv[2]\n",
    "        save_path = sys.argv[3]\n",
    "        \n",
    "        #load the data\n",
    "        data = pd.read_csv(filename, delimiter=',')\n",
    "        \n",
    "        # call process to get values from action and data\n",
    "        values = process(action, data)\n",
    "        plot = data_plot(action, data)\n",
    "        \n",
    "        #output data\n",
    "        print (values)\n",
    "        print (data_plot)\n",
    "        \n",
    "        #save figure\n",
    "        plt.savefig(save_path)\n",
    "\n",
    "def process (command, dataframe):\n",
    "        #create a command where you can choose the processing method you want depending on user input\n",
    "        if command == '--min':\n",
    "                out = dataframe.min(axis=1)\n",
    "        elif command == '--max':\n",
    "                out = dataframe.max(axis=1)\n",
    "        elif command == '--mean':\n",
    "                out = dataframe.mean(axis=1)\n",
    "        else:\n",
    "                \"Please specify if you would like the min, mean or max values for the data\"\n",
    "        \n",
    "def data_plot (command, dataframe):\n",
    "       \n",
    "        #plot the data\n",
    "        if command == '--min':\n",
    "                plot = plt.plot(dataframe.min(axis=1))\n",
    "        elif command == '--max':\n",
    "                plot = plt.plot(dataframe.max(axis=1))\n",
    "        elif command == '--mean':\n",
    "                plot = plt.plot(dataframe.mean(axis=1))\n",
    "        \n",
    "main()"
   ]
  },
  {
   "cell_type": "code",
   "execution_count": 6,
   "metadata": {
    "collapsed": false
   },
   "outputs": [
    {
     "name": "stdout",
     "output_type": "stream",
     "text": [
      "/Users/andershornor\n"
     ]
    }
   ],
   "source": []
  },
  {
   "cell_type": "code",
   "execution_count": 7,
   "metadata": {
    "collapsed": false
   },
   "outputs": [
    {
     "name": "stdout",
     "output_type": "stream",
     "text": [
      "/Users/andershornor/Desktop\n"
     ]
    }
   ],
   "source": []
  },
  {
   "cell_type": "code",
   "execution_count": 8,
   "metadata": {
    "collapsed": false
   },
   "outputs": [
    {
     "name": "stdout",
     "output_type": "stream",
     "text": [
      "/Users/andershornor/Desktop/Inflammation\n"
     ]
    }
   ],
   "source": []
  },
  {
   "cell_type": "code",
   "execution_count": 15,
   "metadata": {
    "collapsed": false
   },
   "outputs": [
    {
     "ename": "SyntaxError",
     "evalue": "invalid syntax (<ipython-input-15-e141fdf8996a>, line 1)",
     "output_type": "error",
     "traceback": [
      "\u001b[0;36m  File \u001b[0;32m\"<ipython-input-15-e141fdf8996a>\"\u001b[0;36m, line \u001b[0;32m1\u001b[0m\n\u001b[0;31m    main(--min inflammation-02.csv inflammation-02.csv.pdf)\u001b[0m\n\u001b[0m                          ^\u001b[0m\n\u001b[0;31mSyntaxError\u001b[0m\u001b[0;31m:\u001b[0m invalid syntax\n"
     ]
    }
   ],
   "source": []
  },
  {
   "cell_type": "code",
   "execution_count": null,
   "metadata": {
    "collapsed": true
   },
   "outputs": [],
   "source": []
  }
 ],
 "metadata": {
  "kernelspec": {
   "display_name": "Python 3",
   "language": "python",
   "name": "python3"
  },
  "language_info": {
   "codemirror_mode": {
    "name": "ipython",
    "version": 3
   },
   "file_extension": ".py",
   "mimetype": "text/x-python",
   "name": "python",
   "nbconvert_exporter": "python",
   "pygments_lexer": "ipython3",
   "version": "3.4.3"
  }
 },
 "nbformat": 4,
 "nbformat_minor": 0
}
